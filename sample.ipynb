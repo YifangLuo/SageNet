{
 "cells": [
  {
   "cell_type": "code",
   "execution_count": null,
   "id": "initial_id",
   "metadata": {
    "collapsed": true
   },
   "outputs": [],
   "source": [
    "from model import GWPredictor\n",
    "import numpy as np\n",
    "import matplotlib.pyplot as plt\n",
    "\n",
    "predictor = GWPredictor()\n",
    "input_params = {\n",
    "    'r': 3.7700443838308302e-25,\n",
    "    'n_t': -0.15585132080058084,\n",
    "    'kappa10': 1.9713118043954374,\n",
    "    'T_re': 3826.640586433075,\n",
    "    'DN_re': 26.961072669897106,\n",
    "    'Omega_bh2': 0.028747307316550876,\n",
    "    'Omega_ch2': 0.10951962963993062,\n",
    "    'H0': 69.76744000389286,\n",
    "    'A_s': 1.8088410528277726e-9\n",
    "}\n",
    "prediction = predictor.predict(input_params)\n",
    "pred_coords = np.column_stack((prediction['f'], prediction['log10OmegaGW']))\n",
    "plt.plot(prediction['f'], prediction['log10OmegaGW'], '*')\n",
    "pred_coords"
   ]
  }
 ],
 "metadata": {
  "kernelspec": {
   "display_name": "Python 3",
   "language": "python",
   "name": "python3"
  },
  "language_info": {
   "codemirror_mode": {
    "name": "ipython",
    "version": 2
   },
   "file_extension": ".py",
   "mimetype": "text/x-python",
   "name": "python",
   "nbconvert_exporter": "python",
   "pygments_lexer": "ipython2",
   "version": "2.7.6"
  }
 },
 "nbformat": 4,
 "nbformat_minor": 5
}
